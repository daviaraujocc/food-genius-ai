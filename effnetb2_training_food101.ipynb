{
 "cells": [
  {
   "cell_type": "markdown",
   "metadata": {},
   "source": [
    "# Training the Food101 Model with EfficientNetB2 🍔"
   ]
  },
  {
   "cell_type": "markdown",
   "metadata": {},
   "source": [
    "## 📚 Import Libraries"
   ]
  },
  {
   "cell_type": "code",
   "execution_count": 13,
   "metadata": {},
   "outputs": [],
   "source": [
    "import sys\n",
    "import torchvision\n",
    "import torch"
   ]
  },
  {
   "cell_type": "markdown",
   "metadata": {},
   "source": [
    "## 🛠️ Create EfficientNetB2 Model"
   ]
  },
  {
   "cell_type": "code",
   "execution_count": null,
   "metadata": {},
   "outputs": [],
   "source": [
    "import foodgenius.model_builder as model_builder\n",
    "\n",
    "effnetb2_101, effnetb2_transforms = model_builder.create_effnetb2_model(num_classes=101)\n",
    "\n",
    "food_101_transforms = torchvision.transforms.Compose([\n",
    "    torchvision.transforms.RandomRotation(15),  \n",
    "    torchvision.transforms.RandomAffine(degrees=0, translate=(0.1, 0.1)),  \n",
    "    torchvision.transforms.RandomHorizontalFlip(),  \n",
    "    torchvision.transforms.ColorJitter(contrast=0.1), \n",
    "    torchvision.transforms.TrivialAugmentWide(), \n",
    "    effnetb2_transforms,\n",
    "                                                    ])\n",
    "\n",
    "food_101_transforms"
   ]
  },
  {
   "cell_type": "markdown",
   "metadata": {},
   "source": [
    "## 📦 Load Food101 Dataset"
   ]
  },
  {
   "cell_type": "code",
   "execution_count": 21,
   "metadata": {},
   "outputs": [],
   "source": [
    "from torchvision import datasets\n",
    "\n",
    "from pathlib import Path\n",
    "\n",
    "data_dir = Path(\"./data\")\n",
    "\n",
    "train_data = datasets.Food101(root=data_dir, split=\"train\", transform=food_101_transforms, download=True)\n",
    "test_data = datasets.Food101(root=data_dir, split=\"test\", transform=food_101_transforms, download=True)\n",
    "\n",
    "\n",
    "food101_class_names = train_data.classes"
   ]
  },
  {
   "cell_type": "markdown",
   "metadata": {},
   "source": [
    "## ✂️ Split the Dataset"
   ]
  },
  {
   "cell_type": "code",
   "execution_count": 22,
   "metadata": {},
   "outputs": [],
   "source": [
    "import foodgenius.utils as utils\n",
    "\n",
    "train_data, _ = utils.split_dataset(train_data, split_size=0.2)\n",
    "test_data, _ = utils.split_dataset(test_data, split_size=0.2)"
   ]
  },
  {
   "cell_type": "markdown",
   "metadata": {},
   "source": [
    "## 📊 Create DataLoaders"
   ]
  },
  {
   "cell_type": "code",
   "execution_count": 23,
   "metadata": {},
   "outputs": [],
   "source": [
    "import torch\n",
    "\n",
    "BATCH_SIZE=32\n",
    "\n",
    "train_dataloader_food101 = torch.utils.data.DataLoader(train_data, batch_size=BATCH_SIZE, shuffle=True, num_workers=2, pin_memory=True)\n",
    "test_dataloader_food101 = torch.utils.data.DataLoader(test_data, batch_size=BATCH_SIZE, shuffle=False, num_workers=2, pin_memory=True)"
   ]
  },
  {
   "cell_type": "markdown",
   "metadata": {},
   "source": [
    "## 🏋️ Train the Model"
   ]
  },
  {
   "cell_type": "code",
   "execution_count": null,
   "metadata": {},
   "outputs": [],
   "source": [
    "import foodgenius.engine as engine\n",
    "\n",
    "optimizer = torch.optim.Adam(effnetb2_101.parameters(), lr=0.001)\n",
    "\n",
    "loss_fn = torch.nn.CrossEntropyLoss(label_smoothing=0.1)\n",
    "\n",
    "\n",
    "effnetb2_101_results = engine.train(model=effnetb2_101.to('cuda:0'),\n",
    "                                    train_dataloader=train_dataloader_food101,\n",
    "                                    test_dataloader=test_dataloader_food101,\n",
    "                                    optimizer=optimizer,\n",
    "                                    loss_fn=loss_fn,\n",
    "                                    epochs=5,\n",
    "                                    device=torch.device('cuda'))\n"
   ]
  },
  {
   "cell_type": "markdown",
   "metadata": {},
   "source": [
    "## 💾 Save the Trained Model"
   ]
  },
  {
   "cell_type": "code",
   "execution_count": null,
   "metadata": {},
   "outputs": [
    {
     "name": "stdout",
     "output_type": "stream",
     "text": [
      "[INFO] Saving model to: models/09_pretrained_effnetb2_feature_extractor_food_101.pth\n"
     ]
    }
   ],
   "source": [
    "utils.save_model(model=effnetb2_101, target_dir=\"models\", model_name='pretrained_effnetb2_feature_extractor_food_101.pth')"
   ]
  }
 ],
 "metadata": {
  "kernelspec": {
   "display_name": "Python 3 (ipykernel)",
   "language": "python",
   "name": "python3"
  }
 },
 "nbformat": 4,
 "nbformat_minor": 2
}
